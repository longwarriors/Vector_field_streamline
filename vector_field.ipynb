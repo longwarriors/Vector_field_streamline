{
 "cells": [
  {
   "cell_type": "code",
   "execution_count": null,
   "id": "initial_id",
   "metadata": {
    "collapsed": true
   },
   "outputs": [],
   "source": [
    "# 方法1 - 调整streamplot参数\n",
    "# density：控制流线密度，增大 density 可以生成更多流线。\n",
    "# linewidth：调整流线粗细，使其更清晰。\n",
    "# minlength 和 maxlength：控制流线的最小和最大长度，避免过短或过长的线。\n",
    "# start_points: 指定流线的起点。\n",
    "# 使用自定义数值积分（如 RK4 法），可以减小步长以提高精度。"
   ]
  }
 ],
 "metadata": {
  "kernelspec": {
   "display_name": "Python 3",
   "language": "python",
   "name": "python3"
  },
  "language_info": {
   "codemirror_mode": {
    "name": "ipython",
    "version": 2
   },
   "file_extension": ".py",
   "mimetype": "text/x-python",
   "name": "python",
   "nbconvert_exporter": "python",
   "pygments_lexer": "ipython2",
   "version": "2.7.6"
  }
 },
 "nbformat": 4,
 "nbformat_minor": 5
}
